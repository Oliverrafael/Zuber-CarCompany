{
 "cells": [
  {
   "cell_type": "markdown",
   "metadata": {},
   "source": [
    "# Título do Projeto\n",
    "\n",
    "## Zuber - Companhia de carros"
   ]
  },
  {
   "cell_type": "markdown",
   "metadata": {},
   "source": [
    "# Descrição do Projeto\n",
    "Você está trabalhando como analista da Zuber, uma nova empresa de compartilhamento de caronas que está sendo lançada em Chicago. Sua tarefa é encontrar padrões nas informações disponíveis. Você quer entender as preferências dos passageiros e o impacto de fatores externos nas corridas.\n",
    "\n",
    "Trabalhando com um banco de dados, você analisará dados de concorrentes e testará uma hipótese sobre o impacto do clima na frequência das viagens."
   ]
  },
  {
   "cell_type": "markdown",
   "metadata": {},
   "source": [
    "# Descrição dos dados\n",
    "Um banco de dados com informações sobre corridas de táxi em Chicago:\n",
    "\n",
    "- tabela neighborhoods: dados sobre os bairros da cidade\n",
    "\n",
    "-   name: nome do bairro\n",
    "-   neighborhood_id: código do bairro\n",
    "-   tabela cabs: dados sobre os táxis\n",
    "\n",
    "-   cab_id: código do veículo\n",
    "-   vehicle_id: a identificação técnica do veículo\n",
    "-   company_name: a empresa proprietária do veículo\n",
    "-   tabela trips: dados sobre corridas\n",
    "\n",
    "-   trip_id: código da corrida\n",
    "-   cab_id: código do veículo que opera a corrida\n",
    "-   start_ts: data e hora do início da corrida (tempo arredondado para a hora)\n",
    "-   end_ts: data e hora do final da corrida (tempo arredondado para a hora)\n",
    "-   duration_seconds: duração da corrida em segundos\n",
    "-   distance_miles: distância percorrida em milhas\n",
    "-   pickup_location_id: código do bairro de retirada\n",
    "-   dropoff_location_id: código do bairro de entrega\n",
    "\n",
    "- tabela weather_records: dados sobre o clima\n",
    "-   record_id: código de registro meteorológico\n",
    "-   ts: grava data e hora (tempo arredondado para a hora)\n",
    "-   temperature: temperatura quando o registro foi feito\n",
    "-   description: breve descrição das condições meteorológicas, ex. \"chuva leve\" ou \"nuvens esparsas\"-   \n",
    "\n",
    "Obs: não há uma conexão direta entre as tabelas trips e weather_records no banco de dados. Mas você ainda pode usar JOIN e juntá-las usando a hora em que o passeio começou (trips.start_ts) e a hora em que o registro do tempo foi feito (weather_records.ts)."
   ]
  },
  {
   "cell_type": "markdown",
   "metadata": {},
   "source": [
    "# Decomposição para completar o projeto\n",
    "# Passo 1. Escreva um código para analisar os dados sobre o clima em Chicago em novembro de 2017 no site:\n",
    "\n",
    "- https://practicum-content.s3.us-west-1.amazonaws.com/data-analyst-eng/moved_chicago_weather_2017.html\n",
    "\n",
    "# Passo 2. Análise Exploratória de Dados\n",
    "\n",
    "- Encontre o número de corridas de táxi para cada empresa de táxi de 15 a 16 de novembro de 2017. Nomeie o campo resultante como trips_amount e imprima-o junto com o campo company_name. Ordene os resultados pelo campo trips_amount em ordem decrescente.\n",
    "\n",
    "- Encontre o número de corridas para cada empresa de táxi cujo nome contém as palavras \"Yellow\" ou \"Blue\" (\"Amarelo\" ou \"Azul\", respectivamente) de 1º a 7 de novembro de 2017. Nomeie a variável resultante como trips_amount. Agrupe os resultados pelo campo company_name.\n",
    "\n",
    "- Em novembro de 2017, as empresas de táxi mais populares eram Flash Cab e Taxi Affiliation Services. Encontre o número de corridas para essas duas empresas e nomeie a variável resultante como trips_amount. Junte as corridas para todas as outras empresas no grupo \"Other\". Agrupe os dados por nomes de empresas de táxi. Nomeie o campo com os nomes das empresas de táxi como company. Classifique o resultado em ordem decrescente por trips_amount.\n",
    "\n",
    "# Passo 3. Teste a hipótese de que a duração das corridas do Loop até ao Aeroporto Internacional O'Hare muda em sábados chuvosos.\n",
    "\n",
    "- Recupere os identificadores dos bairros O'Hare e Loop da tabela neighborhoods.\n",
    "\n",
    "- Para cada hora, recupere os registros de condições meteorológicas da tabela weather_records. Usando o operador CASE, divida todas as horas em dois grupos: \"Bad\" se o campo description contiver as palavras \"rain\" (chuva) ou \"storm\" (tempestade) e \"Good\" para outros. Nomeie o campo resultante como weather_conditions. A tabela final deve incluir dois campos: data e hora (ts) e weather_conditions.\n",
    "\n",
    "- Recupere da tabela trips todos as corridas que começaram no Loop (neighborhood_id: 50) e terminaram em O'Hare (neighborhood_id: 63) em um sábado. Obtenha as condições meteorológicas para cada corrida. Use o método que você aplicou na tarefa anterior. Também recupere a duração de cada corrida. Ignore corridas para as quais os dados sobre as condições meteorológicas não estão disponíveis.\n",
    "\n",
    "# Passo 4. Análise exploratória de dados (Python)\n",
    "\n",
    "- Além dos dados recuperados nas tarefas anteriores, você recebeu um segundo arquivo. Agora você tem estes dois CSVs:\n",
    "\n",
    "- project_sql_result_01.csv. Ele contém os seguintes dados:\n",
    "\n",
    "- company_name: nome da empresa de táxi\n",
    "- trips_amount: o número de corridas para cada empresa de táxi de 15 a 16 de novembro de 2017.\n",
    "\n",
    "- project_sql_result_04.csv. Ele contém os seguintes dados:\n",
    "- dropoff_location_name: bairros de Chicago onde as corridas terminaram\n",
    "- average_trips: o número médio de viagens que terminaram em cada bairro em novembro de 2017.\n",
    "\n",
    "- Para esses dois conjuntos de dados, agora você precisa:\n",
    "- importar os arquivos\n",
    "- estudar os dados que eles contêm\n",
    "- verifique se os tipos de dados estão corretos\n",
    "- identificar os 10 principais bairros em termos de destinos\n",
    "- fazer gráficos: empresas de táxi e número de corridas, 10 principais bairros por número de corridas em que esse - bairro é destino\n",
    "- tirar conclusões com base em cada gráfico e explicar os resultados\n",
    "\n",
    "# Passo 5. Testando hipóteses (Python)\n",
    "- project_sql_result_07.csv —o resultado da última consulta. Ele contém dados sobre viagens do Loop para o Aeroporto Internacional O'Hare. Lembre-se, estes são os valores dos campos da tabela:\n",
    "\n",
    "- start_ts — data e hora do começo da corrida\n",
    "- weather_conditions — condições meteorológicas no momento em que a corrida começou\n",
    "- duration_seconds — duração da viagem em segundos\n",
    "\n",
    "# Teste a hipótese:\n",
    "- \"A duração média dos passeios do Loop para o Aeroporto Internacional O'Hare muda nos sábados chuvosos.\" \n",
    "\n",
    "- Defina o valor do nível de significância (alfa) por conta própria.\n",
    "\n",
    "# Explique:\n",
    "\n",
    "- como você formou as hipóteses nula e alternativa\n",
    "- qual critério você usou para testar a hipótese e porque"
   ]
  },
  {
   "cell_type": "code",
   "execution_count": 1,
   "metadata": {},
   "outputs": [
    {
     "name": "stdout",
     "output_type": "stream",
     "text": [
      "           Date and time Temperature       Description\n",
      "0    2017-11-01 00:00:00     276.150     broken clouds\n",
      "1    2017-11-01 01:00:00     275.700  scattered clouds\n",
      "2    2017-11-01 02:00:00     275.610   overcast clouds\n",
      "3    2017-11-01 03:00:00     275.350     broken clouds\n",
      "4    2017-11-01 04:00:00     275.240     broken clouds\n",
      "..                   ...         ...               ...\n",
      "692  2017-11-29 20:00:00     281.340        few clouds\n",
      "693  2017-11-29 21:00:00     281.690      sky is clear\n",
      "694  2017-11-29 22:00:00     281.070        few clouds\n",
      "695  2017-11-29 23:00:00     280.060      sky is clear\n",
      "696  2017-11-30 00:00:00     278.460      sky is clear\n",
      "\n",
      "[697 rows x 3 columns]\n"
     ]
    }
   ],
   "source": [
    "# Passo 1 \n",
    "import requests\n",
    "from bs4 import BeautifulSoup\n",
    "import pandas as pd\n",
    "URL='https://practicum-content.s3.us-west-1.amazonaws.com/data-analyst-eng/moved_chicago_weather_2017.html'\n",
    "req = requests.get(URL)\n",
    "soup = BeautifulSoup(req.text, 'lxml')\n",
    "table = soup.find('table', attrs={\"id\": \"weather_records\"})\n",
    "heading_table=[]\n",
    "for row in table.find_all('th'):\n",
    "    heading_table.append(row.text)   \n",
    "content=[]\n",
    "for row in table.find_all('tr'):\n",
    "    if not row.find_all('th'):\n",
    "        content.append([element.text for element in row.find_all('td')])\n",
    "weather_records = pd.DataFrame(content, columns = heading_table)\n",
    "print(weather_records)"
   ]
  },
  {
   "cell_type": "code",
   "execution_count": null,
   "metadata": {},
   "outputs": [],
   "source": [
    "# Passo 2\n",
    "# Imprima o campo company_name. Encontre o número de corridas de táxi para cada empresa de táxi de 15 a 16 de novembro de 2017,\n",
    "# nomeie o campo resultante como trips_amount e imprima-o também. Classifique os resultados pelo campo trips_amount em ordem decrescente.\n",
    "query = \"\"\"\n",
    "SELECT \n",
    "    cabs.company_name,\n",
    "    COUNT(trips.trip_id) AS trips_amount\n",
    "FROM \n",
    "    cabs\n",
    "    INNER JOIN trips ON trips.cab_id = cabs.cab_id\n",
    "WHERE \n",
    "    CAST(trips.start_ts AS date) BETWEEN '2017-11-15' AND '2017-11-16'\n",
    "GROUP BY \n",
    "    company_name\n",
    "ORDER BY \n",
    "    trips_amount DESC;\n",
    "\"\"\""
   ]
  },
  {
   "cell_type": "code",
   "execution_count": null,
   "metadata": {},
   "outputs": [],
   "source": [
    "# Encontre o número de corridas para cada empresa de táxi cujo nome contém as palavras \"Yellow\" ou \"Blue\"\n",
    "# (\"Amarelo\" ou \"Azul\", respectivamente) de 1 a 7 de novembro de 2017. Nomeie a variável resultante como trips_amount. Agrupe os resultados pelo campo company_name.\n",
    "\n",
    "query = \"\"\"\n",
    "SELECT\n",
    "    cabs.company_name as company_name,\n",
    "    COUNT(trips.trip_id) AS trips_amount\n",
    "FROM \n",
    "    cabs\n",
    "INNER JOIN \n",
    "    trips \n",
    "ON \n",
    "    trips.cab_id = cabs.cab_id\n",
    "WHERE \n",
    "    CAST(trips.start_ts AS date) BETWEEN '2017-11-01' AND '2017-11-07'\n",
    "    AND cabs.company_name LIKE '%%Yellow%%'\n",
    "GROUP BY company_name\n",
    "UNION ALL\n",
    "SELECT\n",
    "    cabs.company_name as company_name,\n",
    "    COUNT(trips.trip_id) AS trips_amount\n",
    "FROM \n",
    "    cabs\n",
    "INNER JOIN \n",
    "    trips \n",
    "ON \n",
    "    trips.cab_id = cabs.cab_id\n",
    "WHERE \n",
    "    CAST(trips.start_ts AS date) BETWEEN '2017-11-01' AND '2017-11-07'\n",
    "    AND cabs.company_name LIKE '%%Blue%%'\n",
    "GROUP BY company_name;\n",
    "\"\"\""
   ]
  },
  {
   "cell_type": "code",
   "execution_count": null,
   "metadata": {},
   "outputs": [],
   "source": [
    "# De 1 a 7 de novembro de 2017, as empresas de táxi mais populares foram Flash Cab e Taxi Affiliation Services. Encontre o número de corridas para essas duas empresas e\n",
    "# nomeie a variável resultante como trips_amount. Junte as corridas de todas as outras empresas no grupo \"Other\". Agrupe os dados por nomes de empresas de táxi.\n",
    "# Nomeie o campo com os nomes das empresas de táxi company. Ordene o resultado em ordem decrescente por trips_amount.\n",
    "\n",
    "query = \"\"\"\n",
    "SELECT \n",
    "    CASE \n",
    "        WHEN c.company_name = 'Flash Cab' THEN 'Flash Cab'\n",
    "        WHEN c.company_name = 'Taxi Affiliation Services' THEN 'Taxi Affiliation Services'\n",
    "        ELSE 'Other'\n",
    "    END AS company,\n",
    "    COUNT(t.trip_id) AS trips_amount\n",
    "FROM \n",
    "    trips t\n",
    "JOIN \n",
    "    cabs c ON t.cab_id = c.cab_id\n",
    "WHERE \n",
    "    t.start_ts >= '2017-11-01 00:00:00' \n",
    "    AND t.start_ts < '2017-11-08 00:00:00'\n",
    "GROUP BY \n",
    "    company\n",
    "ORDER BY \n",
    "    trips_amount DESC;\n",
    "\"\"\""
   ]
  },
  {
   "cell_type": "code",
   "execution_count": null,
   "metadata": {},
   "outputs": [],
   "source": [
    "# Recupere os identificadores dos bairros O'Hare e Loop da tabela neighborhoods.\n",
    "\n",
    "query = \"\"\"\n",
    "SELECT\n",
    "    neighborhood_id,\n",
    "    name\n",
    "FROM\n",
    "    neighborhoods\n",
    "WHERE\n",
    "    name IN ('O''Hare', 'Loop');\n",
    "\"\"\""
   ]
  },
  {
   "cell_type": "code",
   "execution_count": null,
   "metadata": {},
   "outputs": [],
   "source": [
    "# Para cada hora, recupere os registros de condições climáticas da tabela weather_records. Usando o operador CASE, divida todas as horas em dois grupos: Bad se o campo descrição\n",
    "# contiver as palavras rain ou storm e Good para outros. Nomeie o campo resultante como weather_conditions. A tabela final deve incluir dois campos: data e hora (ts) e weather_conditions.\n",
    "\n",
    "query = \"\"\"\n",
    "SELECT\n",
    "    ts,\n",
    "    CASE\n",
    "        WHEN description LIKE '%rain%' OR description LIKE '%storm%' THEN 'Bad'\n",
    "        ELSE 'Good'\n",
    "    END AS weather_conditions\n",
    "FROM \n",
    "    weather_records;\n",
    "\"\"\""
   ]
  },
  {
   "cell_type": "code",
   "execution_count": 35,
   "metadata": {},
   "outputs": [],
   "source": [
    "# Recupere da tabela trips todas as corridas que começaram no Loop (pickup_location_id: 50) em um sábado e terminaram em O'Hare (dropoff_location_id: 63). \n",
    "# Obtenha as condições meteorológicas para cada corrida. Use o método que você aplicou na tarefa anterior. Além disso, recupere a duração de cada corrida. \n",
    "# Ignore corridas para as quais os dados sobre as condições meteorológicas não estão disponíveis. As colunas da tabela devem estar na seguinte ordem:\n",
    "#start_ts\n",
    "#weather_conditions\n",
    "#duration_seconds\n",
    "#Ordene por trip_id.\n",
    "\n",
    "\n",
    "query = \"\"\" \n",
    "SELECT\n",
    "    start_ts,\n",
    "    T.weather_conditions,\n",
    "    duration_seconds\n",
    "FROM \n",
    "    trips\n",
    "INNER JOIN (\n",
    "    SELECT\n",
    "        ts,\n",
    "        CASE\n",
    "            WHEN description LIKE '%rain%' OR description LIKE '%storm%' THEN 'Bad'\n",
    "            ELSE 'Good'\n",
    "        END AS weather_conditions\n",
    "    FROM \n",
    "        weather_records          \n",
    ") T on T.ts = trips.start_ts\n",
    "WHERE \n",
    "    pickup_location_id = 50 AND dropoff_location_id = 63 AND EXTRACT (DOW from trips.start_ts) = 6\n",
    "ORDER BY trip_id\n",
    "\"\"\""
   ]
  },
  {
   "cell_type": "markdown",
   "metadata": {},
   "source": [
    "##  Inicialização"
   ]
  },
  {
   "cell_type": "code",
   "execution_count": 4,
   "metadata": {},
   "outputs": [],
   "source": [
    "# Importando as bibliotecas\n",
    "import pandas as pd\n",
    "import matplotlib.pyplot as plt\n",
    "from scipy import stats as st"
   ]
  },
  {
   "cell_type": "markdown",
   "metadata": {},
   "source": [
    "# Carregando os dados"
   ]
  },
  {
   "cell_type": "code",
   "execution_count": 5,
   "metadata": {},
   "outputs": [],
   "source": [
    "# Importando os arquivos\n",
    "df1 = pd.read_csv('moved_project_sql_result_01.csv')\n",
    "df2 = pd.read_csv('moved_project_sql_result_04.csv')\n",
    "df = pd.read_csv('moved_project_sql_result_07.csv')"
   ]
  },
  {
   "cell_type": "code",
   "execution_count": 6,
   "metadata": {},
   "outputs": [
    {
     "name": "stdout",
     "output_type": "stream",
     "text": [
      "<class 'pandas.core.frame.DataFrame'>\n",
      "RangeIndex: 64 entries, 0 to 63\n",
      "Data columns (total 2 columns):\n",
      " #   Column        Non-Null Count  Dtype \n",
      "---  ------        --------------  ----- \n",
      " 0   company_name  64 non-null     object\n",
      " 1   trips_amount  64 non-null     int64 \n",
      "dtypes: int64(1), object(1)\n",
      "memory usage: 1.1+ KB\n"
     ]
    }
   ],
   "source": [
    "df1.info()"
   ]
  },
  {
   "cell_type": "code",
   "execution_count": 7,
   "metadata": {
    "scrolled": false
   },
   "outputs": [
    {
     "name": "stdout",
     "output_type": "stream",
     "text": [
      "<class 'pandas.core.frame.DataFrame'>\n",
      "RangeIndex: 94 entries, 0 to 93\n",
      "Data columns (total 2 columns):\n",
      " #   Column                 Non-Null Count  Dtype  \n",
      "---  ------                 --------------  -----  \n",
      " 0   dropoff_location_name  94 non-null     object \n",
      " 1   average_trips          94 non-null     float64\n",
      "dtypes: float64(1), object(1)\n",
      "memory usage: 1.6+ KB\n"
     ]
    }
   ],
   "source": [
    "# visualizando os dados de df2\n",
    "df2.info()"
   ]
  },
  {
   "cell_type": "code",
   "execution_count": 8,
   "metadata": {
    "scrolled": true
   },
   "outputs": [
    {
     "name": "stdout",
     "output_type": "stream",
     "text": [
      "<class 'pandas.core.frame.DataFrame'>\n",
      "RangeIndex: 1068 entries, 0 to 1067\n",
      "Data columns (total 3 columns):\n",
      " #   Column              Non-Null Count  Dtype  \n",
      "---  ------              --------------  -----  \n",
      " 0   start_ts            1068 non-null   object \n",
      " 1   weather_conditions  1068 non-null   object \n",
      " 2   duration_seconds    1068 non-null   float64\n",
      "dtypes: float64(1), object(2)\n",
      "memory usage: 25.2+ KB\n"
     ]
    }
   ],
   "source": [
    "# Visualizando os dados de df\n",
    "df.info()"
   ]
  },
  {
   "cell_type": "markdown",
   "metadata": {},
   "source": [
    "Obs: Ao utilizar info() podemos observar que não tem dados ausentes nos datasets 1 e 2 em df podemos observar que não há valores ausentes mas para uma analise mais completa dos dados iremos investigar se os dados de duration_second estão corretos ou se precisaram ser alterados/convertidos."
   ]
  },
  {
   "cell_type": "markdown",
   "metadata": {},
   "source": [
    "## Pré-processamento dos dados"
   ]
  },
  {
   "cell_type": "code",
   "execution_count": 9,
   "metadata": {
    "scrolled": false
   },
   "outputs": [
    {
     "data": {
      "text/html": [
       "<div>\n",
       "<style scoped>\n",
       "    .dataframe tbody tr th:only-of-type {\n",
       "        vertical-align: middle;\n",
       "    }\n",
       "\n",
       "    .dataframe tbody tr th {\n",
       "        vertical-align: top;\n",
       "    }\n",
       "\n",
       "    .dataframe thead th {\n",
       "        text-align: right;\n",
       "    }\n",
       "</style>\n",
       "<table border=\"1\" class=\"dataframe\">\n",
       "  <thead>\n",
       "    <tr style=\"text-align: right;\">\n",
       "      <th></th>\n",
       "      <th>company_name</th>\n",
       "      <th>trips_amount</th>\n",
       "    </tr>\n",
       "  </thead>\n",
       "  <tbody>\n",
       "    <tr>\n",
       "      <th>0</th>\n",
       "      <td>Flash Cab</td>\n",
       "      <td>19558</td>\n",
       "    </tr>\n",
       "    <tr>\n",
       "      <th>1</th>\n",
       "      <td>Taxi Affiliation Services</td>\n",
       "      <td>11422</td>\n",
       "    </tr>\n",
       "    <tr>\n",
       "      <th>2</th>\n",
       "      <td>Medallion Leasin</td>\n",
       "      <td>10367</td>\n",
       "    </tr>\n",
       "    <tr>\n",
       "      <th>3</th>\n",
       "      <td>Yellow Cab</td>\n",
       "      <td>9888</td>\n",
       "    </tr>\n",
       "    <tr>\n",
       "      <th>4</th>\n",
       "      <td>Taxi Affiliation Service Yellow</td>\n",
       "      <td>9299</td>\n",
       "    </tr>\n",
       "  </tbody>\n",
       "</table>\n",
       "</div>"
      ],
      "text/plain": [
       "                      company_name  trips_amount\n",
       "0                        Flash Cab         19558\n",
       "1        Taxi Affiliation Services         11422\n",
       "2                 Medallion Leasin         10367\n",
       "3                       Yellow Cab          9888\n",
       "4  Taxi Affiliation Service Yellow          9299"
      ]
     },
     "execution_count": 9,
     "metadata": {},
     "output_type": "execute_result"
    }
   ],
   "source": [
    "# Visualizando os dados de df1\n",
    "df1.head()"
   ]
  },
  {
   "cell_type": "code",
   "execution_count": 10,
   "metadata": {},
   "outputs": [
    {
     "data": {
      "text/plain": [
       "0"
      ]
     },
     "execution_count": 10,
     "metadata": {},
     "output_type": "execute_result"
    }
   ],
   "source": [
    "# Procurando por valores duplicados\n",
    "df1.duplicated().sum()"
   ]
  },
  {
   "cell_type": "code",
   "execution_count": 11,
   "metadata": {},
   "outputs": [
    {
     "data": {
      "text/plain": [
       "company_name    0\n",
       "trips_amount    0\n",
       "dtype: int64"
      ]
     },
     "execution_count": 11,
     "metadata": {},
     "output_type": "execute_result"
    }
   ],
   "source": [
    "# procurando por valores ausentes\n",
    "df1.isna().sum()"
   ]
  },
  {
   "cell_type": "code",
   "execution_count": 12,
   "metadata": {},
   "outputs": [
    {
     "data": {
      "text/html": [
       "<div>\n",
       "<style scoped>\n",
       "    .dataframe tbody tr th:only-of-type {\n",
       "        vertical-align: middle;\n",
       "    }\n",
       "\n",
       "    .dataframe tbody tr th {\n",
       "        vertical-align: top;\n",
       "    }\n",
       "\n",
       "    .dataframe thead th {\n",
       "        text-align: right;\n",
       "    }\n",
       "</style>\n",
       "<table border=\"1\" class=\"dataframe\">\n",
       "  <thead>\n",
       "    <tr style=\"text-align: right;\">\n",
       "      <th></th>\n",
       "      <th>dropoff_location_name</th>\n",
       "      <th>average_trips</th>\n",
       "    </tr>\n",
       "  </thead>\n",
       "  <tbody>\n",
       "    <tr>\n",
       "      <th>0</th>\n",
       "      <td>Loop</td>\n",
       "      <td>10727.466667</td>\n",
       "    </tr>\n",
       "    <tr>\n",
       "      <th>1</th>\n",
       "      <td>River North</td>\n",
       "      <td>9523.666667</td>\n",
       "    </tr>\n",
       "    <tr>\n",
       "      <th>2</th>\n",
       "      <td>Streeterville</td>\n",
       "      <td>6664.666667</td>\n",
       "    </tr>\n",
       "    <tr>\n",
       "      <th>3</th>\n",
       "      <td>West Loop</td>\n",
       "      <td>5163.666667</td>\n",
       "    </tr>\n",
       "    <tr>\n",
       "      <th>4</th>\n",
       "      <td>O'Hare</td>\n",
       "      <td>2546.900000</td>\n",
       "    </tr>\n",
       "  </tbody>\n",
       "</table>\n",
       "</div>"
      ],
      "text/plain": [
       "  dropoff_location_name  average_trips\n",
       "0                  Loop   10727.466667\n",
       "1           River North    9523.666667\n",
       "2         Streeterville    6664.666667\n",
       "3             West Loop    5163.666667\n",
       "4                O'Hare    2546.900000"
      ]
     },
     "execution_count": 12,
     "metadata": {},
     "output_type": "execute_result"
    }
   ],
   "source": [
    "# Visualizando os dados de df2\n",
    "df2.head()"
   ]
  },
  {
   "cell_type": "code",
   "execution_count": 13,
   "metadata": {},
   "outputs": [
    {
     "data": {
      "text/plain": [
       "0"
      ]
     },
     "execution_count": 13,
     "metadata": {},
     "output_type": "execute_result"
    }
   ],
   "source": [
    "# Procurando por valores duplicados\n",
    "df2.duplicated().sum()"
   ]
  },
  {
   "cell_type": "code",
   "execution_count": 14,
   "metadata": {},
   "outputs": [
    {
     "data": {
      "text/plain": [
       "dropoff_location_name    0\n",
       "average_trips            0\n",
       "dtype: int64"
      ]
     },
     "execution_count": 14,
     "metadata": {},
     "output_type": "execute_result"
    }
   ],
   "source": [
    "# procurando por valores ausentes\n",
    "df2.isna().sum()"
   ]
  },
  {
   "cell_type": "markdown",
   "metadata": {},
   "source": [
    "Ao finalizar a etapa de preparação de dados podemos notar que em df1 e em df2 está tudo correto."
   ]
  },
  {
   "cell_type": "markdown",
   "metadata": {},
   "source": [
    "# 2.2 estudando os dados"
   ]
  },
  {
   "cell_type": "code",
   "execution_count": 15,
   "metadata": {},
   "outputs": [
    {
     "data": {
      "text/html": [
       "<div>\n",
       "<style scoped>\n",
       "    .dataframe tbody tr th:only-of-type {\n",
       "        vertical-align: middle;\n",
       "    }\n",
       "\n",
       "    .dataframe tbody tr th {\n",
       "        vertical-align: top;\n",
       "    }\n",
       "\n",
       "    .dataframe thead th {\n",
       "        text-align: right;\n",
       "    }\n",
       "</style>\n",
       "<table border=\"1\" class=\"dataframe\">\n",
       "  <thead>\n",
       "    <tr style=\"text-align: right;\">\n",
       "      <th></th>\n",
       "      <th>company_name</th>\n",
       "      <th>trips_amount</th>\n",
       "    </tr>\n",
       "  </thead>\n",
       "  <tbody>\n",
       "    <tr>\n",
       "      <th>0</th>\n",
       "      <td>Flash Cab</td>\n",
       "      <td>19558</td>\n",
       "    </tr>\n",
       "    <tr>\n",
       "      <th>1</th>\n",
       "      <td>Taxi Affiliation Services</td>\n",
       "      <td>11422</td>\n",
       "    </tr>\n",
       "    <tr>\n",
       "      <th>2</th>\n",
       "      <td>Medallion Leasin</td>\n",
       "      <td>10367</td>\n",
       "    </tr>\n",
       "    <tr>\n",
       "      <th>3</th>\n",
       "      <td>Yellow Cab</td>\n",
       "      <td>9888</td>\n",
       "    </tr>\n",
       "    <tr>\n",
       "      <th>4</th>\n",
       "      <td>Taxi Affiliation Service Yellow</td>\n",
       "      <td>9299</td>\n",
       "    </tr>\n",
       "    <tr>\n",
       "      <th>5</th>\n",
       "      <td>Chicago Carriage Cab Corp</td>\n",
       "      <td>9181</td>\n",
       "    </tr>\n",
       "    <tr>\n",
       "      <th>6</th>\n",
       "      <td>City Service</td>\n",
       "      <td>8448</td>\n",
       "    </tr>\n",
       "    <tr>\n",
       "      <th>7</th>\n",
       "      <td>Sun Taxi</td>\n",
       "      <td>7701</td>\n",
       "    </tr>\n",
       "    <tr>\n",
       "      <th>8</th>\n",
       "      <td>Star North Management LLC</td>\n",
       "      <td>7455</td>\n",
       "    </tr>\n",
       "    <tr>\n",
       "      <th>9</th>\n",
       "      <td>Blue Ribbon Taxi Association Inc.</td>\n",
       "      <td>5953</td>\n",
       "    </tr>\n",
       "    <tr>\n",
       "      <th>10</th>\n",
       "      <td>Choice Taxi Association</td>\n",
       "      <td>5015</td>\n",
       "    </tr>\n",
       "    <tr>\n",
       "      <th>11</th>\n",
       "      <td>Globe Taxi</td>\n",
       "      <td>4383</td>\n",
       "    </tr>\n",
       "    <tr>\n",
       "      <th>12</th>\n",
       "      <td>Dispatch Taxi Affiliation</td>\n",
       "      <td>3355</td>\n",
       "    </tr>\n",
       "    <tr>\n",
       "      <th>13</th>\n",
       "      <td>Nova Taxi Affiliation Llc</td>\n",
       "      <td>3175</td>\n",
       "    </tr>\n",
       "    <tr>\n",
       "      <th>14</th>\n",
       "      <td>Patriot Taxi Dba Peace Taxi Associat</td>\n",
       "      <td>2235</td>\n",
       "    </tr>\n",
       "    <tr>\n",
       "      <th>15</th>\n",
       "      <td>Checker Taxi Affiliation</td>\n",
       "      <td>2216</td>\n",
       "    </tr>\n",
       "    <tr>\n",
       "      <th>16</th>\n",
       "      <td>Blue Diamond</td>\n",
       "      <td>2070</td>\n",
       "    </tr>\n",
       "    <tr>\n",
       "      <th>17</th>\n",
       "      <td>Chicago Medallion Management</td>\n",
       "      <td>1955</td>\n",
       "    </tr>\n",
       "    <tr>\n",
       "      <th>18</th>\n",
       "      <td>24 Seven Taxi</td>\n",
       "      <td>1775</td>\n",
       "    </tr>\n",
       "    <tr>\n",
       "      <th>19</th>\n",
       "      <td>Chicago Medallion Leasing INC</td>\n",
       "      <td>1607</td>\n",
       "    </tr>\n",
       "  </tbody>\n",
       "</table>\n",
       "</div>"
      ],
      "text/plain": [
       "                            company_name  trips_amount\n",
       "0                              Flash Cab         19558\n",
       "1              Taxi Affiliation Services         11422\n",
       "2                       Medallion Leasin         10367\n",
       "3                             Yellow Cab          9888\n",
       "4        Taxi Affiliation Service Yellow          9299\n",
       "5              Chicago Carriage Cab Corp          9181\n",
       "6                           City Service          8448\n",
       "7                               Sun Taxi          7701\n",
       "8              Star North Management LLC          7455\n",
       "9      Blue Ribbon Taxi Association Inc.          5953\n",
       "10               Choice Taxi Association          5015\n",
       "11                            Globe Taxi          4383\n",
       "12             Dispatch Taxi Affiliation          3355\n",
       "13             Nova Taxi Affiliation Llc          3175\n",
       "14  Patriot Taxi Dba Peace Taxi Associat          2235\n",
       "15              Checker Taxi Affiliation          2216\n",
       "16                          Blue Diamond          2070\n",
       "17          Chicago Medallion Management          1955\n",
       "18                         24 Seven Taxi          1775\n",
       "19         Chicago Medallion Leasing INC          1607"
      ]
     },
     "execution_count": 15,
     "metadata": {},
     "output_type": "execute_result"
    }
   ],
   "source": [
    "# Observando os dados de df1 \n",
    "df1.head(20)"
   ]
  },
  {
   "cell_type": "code",
   "execution_count": 16,
   "metadata": {
    "scrolled": true
   },
   "outputs": [
    {
     "data": {
      "text/html": [
       "<div>\n",
       "<style scoped>\n",
       "    .dataframe tbody tr th:only-of-type {\n",
       "        vertical-align: middle;\n",
       "    }\n",
       "\n",
       "    .dataframe tbody tr th {\n",
       "        vertical-align: top;\n",
       "    }\n",
       "\n",
       "    .dataframe thead th {\n",
       "        text-align: right;\n",
       "    }\n",
       "</style>\n",
       "<table border=\"1\" class=\"dataframe\">\n",
       "  <thead>\n",
       "    <tr style=\"text-align: right;\">\n",
       "      <th></th>\n",
       "      <th>dropoff_location_name</th>\n",
       "      <th>average_trips</th>\n",
       "    </tr>\n",
       "  </thead>\n",
       "  <tbody>\n",
       "    <tr>\n",
       "      <th>0</th>\n",
       "      <td>Loop</td>\n",
       "      <td>10727.466667</td>\n",
       "    </tr>\n",
       "    <tr>\n",
       "      <th>1</th>\n",
       "      <td>River North</td>\n",
       "      <td>9523.666667</td>\n",
       "    </tr>\n",
       "    <tr>\n",
       "      <th>2</th>\n",
       "      <td>Streeterville</td>\n",
       "      <td>6664.666667</td>\n",
       "    </tr>\n",
       "    <tr>\n",
       "      <th>3</th>\n",
       "      <td>West Loop</td>\n",
       "      <td>5163.666667</td>\n",
       "    </tr>\n",
       "    <tr>\n",
       "      <th>4</th>\n",
       "      <td>O'Hare</td>\n",
       "      <td>2546.900000</td>\n",
       "    </tr>\n",
       "    <tr>\n",
       "      <th>5</th>\n",
       "      <td>Lake View</td>\n",
       "      <td>2420.966667</td>\n",
       "    </tr>\n",
       "    <tr>\n",
       "      <th>6</th>\n",
       "      <td>Grant Park</td>\n",
       "      <td>2068.533333</td>\n",
       "    </tr>\n",
       "    <tr>\n",
       "      <th>7</th>\n",
       "      <td>Museum Campus</td>\n",
       "      <td>1510.000000</td>\n",
       "    </tr>\n",
       "    <tr>\n",
       "      <th>8</th>\n",
       "      <td>Gold Coast</td>\n",
       "      <td>1364.233333</td>\n",
       "    </tr>\n",
       "    <tr>\n",
       "      <th>9</th>\n",
       "      <td>Sheffield &amp; DePaul</td>\n",
       "      <td>1259.766667</td>\n",
       "    </tr>\n",
       "    <tr>\n",
       "      <th>10</th>\n",
       "      <td>Lincoln Park</td>\n",
       "      <td>1246.533333</td>\n",
       "    </tr>\n",
       "    <tr>\n",
       "      <th>11</th>\n",
       "      <td>East Village</td>\n",
       "      <td>1212.066667</td>\n",
       "    </tr>\n",
       "    <tr>\n",
       "      <th>12</th>\n",
       "      <td>Little Italy, UIC</td>\n",
       "      <td>863.700000</td>\n",
       "    </tr>\n",
       "    <tr>\n",
       "      <th>13</th>\n",
       "      <td>Uptown</td>\n",
       "      <td>849.666667</td>\n",
       "    </tr>\n",
       "    <tr>\n",
       "      <th>14</th>\n",
       "      <td>Near South Side</td>\n",
       "      <td>839.833333</td>\n",
       "    </tr>\n",
       "    <tr>\n",
       "      <th>15</th>\n",
       "      <td>Garfield Ridge</td>\n",
       "      <td>745.400000</td>\n",
       "    </tr>\n",
       "    <tr>\n",
       "      <th>16</th>\n",
       "      <td>Logan Square</td>\n",
       "      <td>620.333333</td>\n",
       "    </tr>\n",
       "    <tr>\n",
       "      <th>17</th>\n",
       "      <td>Edgewater</td>\n",
       "      <td>583.300000</td>\n",
       "    </tr>\n",
       "    <tr>\n",
       "      <th>18</th>\n",
       "      <td>West Town</td>\n",
       "      <td>516.400000</td>\n",
       "    </tr>\n",
       "    <tr>\n",
       "      <th>19</th>\n",
       "      <td>Old Town</td>\n",
       "      <td>469.566667</td>\n",
       "    </tr>\n",
       "  </tbody>\n",
       "</table>\n",
       "</div>"
      ],
      "text/plain": [
       "   dropoff_location_name  average_trips\n",
       "0                   Loop   10727.466667\n",
       "1            River North    9523.666667\n",
       "2          Streeterville    6664.666667\n",
       "3              West Loop    5163.666667\n",
       "4                 O'Hare    2546.900000\n",
       "5              Lake View    2420.966667\n",
       "6             Grant Park    2068.533333\n",
       "7          Museum Campus    1510.000000\n",
       "8             Gold Coast    1364.233333\n",
       "9     Sheffield & DePaul    1259.766667\n",
       "10          Lincoln Park    1246.533333\n",
       "11          East Village    1212.066667\n",
       "12     Little Italy, UIC     863.700000\n",
       "13                Uptown     849.666667\n",
       "14       Near South Side     839.833333\n",
       "15        Garfield Ridge     745.400000\n",
       "16          Logan Square     620.333333\n",
       "17             Edgewater     583.300000\n",
       "18             West Town     516.400000\n",
       "19              Old Town     469.566667"
      ]
     },
     "execution_count": 16,
     "metadata": {},
     "output_type": "execute_result"
    }
   ],
   "source": [
    "# Observando os dados de df2\n",
    "df2.head(20)"
   ]
  },
  {
   "cell_type": "markdown",
   "metadata": {},
   "source": [
    "## Analise exploratoria de dados (EDA)"
   ]
  },
  {
   "cell_type": "markdown",
   "metadata": {},
   "source": [
    "# Identificar os 10 principais bairros em termos de destinos"
   ]
  },
  {
   "cell_type": "code",
   "execution_count": 17,
   "metadata": {},
   "outputs": [
    {
     "data": {
      "text/html": [
       "<div>\n",
       "<style scoped>\n",
       "    .dataframe tbody tr th:only-of-type {\n",
       "        vertical-align: middle;\n",
       "    }\n",
       "\n",
       "    .dataframe tbody tr th {\n",
       "        vertical-align: top;\n",
       "    }\n",
       "\n",
       "    .dataframe thead th {\n",
       "        text-align: right;\n",
       "    }\n",
       "</style>\n",
       "<table border=\"1\" class=\"dataframe\">\n",
       "  <thead>\n",
       "    <tr style=\"text-align: right;\">\n",
       "      <th></th>\n",
       "      <th>dropoff_location_name</th>\n",
       "      <th>average_trips</th>\n",
       "    </tr>\n",
       "  </thead>\n",
       "  <tbody>\n",
       "    <tr>\n",
       "      <th>0</th>\n",
       "      <td>Loop</td>\n",
       "      <td>10727.466667</td>\n",
       "    </tr>\n",
       "    <tr>\n",
       "      <th>1</th>\n",
       "      <td>River North</td>\n",
       "      <td>9523.666667</td>\n",
       "    </tr>\n",
       "    <tr>\n",
       "      <th>2</th>\n",
       "      <td>Streeterville</td>\n",
       "      <td>6664.666667</td>\n",
       "    </tr>\n",
       "    <tr>\n",
       "      <th>3</th>\n",
       "      <td>West Loop</td>\n",
       "      <td>5163.666667</td>\n",
       "    </tr>\n",
       "    <tr>\n",
       "      <th>4</th>\n",
       "      <td>O'Hare</td>\n",
       "      <td>2546.900000</td>\n",
       "    </tr>\n",
       "    <tr>\n",
       "      <th>5</th>\n",
       "      <td>Lake View</td>\n",
       "      <td>2420.966667</td>\n",
       "    </tr>\n",
       "    <tr>\n",
       "      <th>6</th>\n",
       "      <td>Grant Park</td>\n",
       "      <td>2068.533333</td>\n",
       "    </tr>\n",
       "    <tr>\n",
       "      <th>7</th>\n",
       "      <td>Museum Campus</td>\n",
       "      <td>1510.000000</td>\n",
       "    </tr>\n",
       "    <tr>\n",
       "      <th>8</th>\n",
       "      <td>Gold Coast</td>\n",
       "      <td>1364.233333</td>\n",
       "    </tr>\n",
       "    <tr>\n",
       "      <th>9</th>\n",
       "      <td>Sheffield &amp; DePaul</td>\n",
       "      <td>1259.766667</td>\n",
       "    </tr>\n",
       "  </tbody>\n",
       "</table>\n",
       "</div>"
      ],
      "text/plain": [
       "  dropoff_location_name  average_trips\n",
       "0                  Loop   10727.466667\n",
       "1           River North    9523.666667\n",
       "2         Streeterville    6664.666667\n",
       "3             West Loop    5163.666667\n",
       "4                O'Hare    2546.900000\n",
       "5             Lake View    2420.966667\n",
       "6            Grant Park    2068.533333\n",
       "7         Museum Campus    1510.000000\n",
       "8            Gold Coast    1364.233333\n",
       "9    Sheffield & DePaul    1259.766667"
      ]
     },
     "execution_count": 17,
     "metadata": {},
     "output_type": "execute_result"
    }
   ],
   "source": [
    "# Localizando os 10 principais bairros\n",
    "top_10_neighborhoods = df2.sort_values(by='average_trips', ascending=False).head(10)\n",
    "top_10_neighborhoods"
   ]
  },
  {
   "cell_type": "markdown",
   "metadata": {},
   "source": [
    "# Fazer gráficos: empresas de táxi e número de corridas, top 10 bairros por número de corridas em que esse bairro é destino"
   ]
  },
  {
   "cell_type": "code",
   "execution_count": 18,
   "metadata": {
    "scrolled": true
   },
   "outputs": [
    {
     "data": {
      "image/png": "[encoded data removed]",
      "text/plain": [
       "<Figure size 1200x600 with 1 Axes>"
      ]
     },
     "metadata": {},
     "output_type": "display_data"
    }
   ],
   "source": [
    "# Selecionar as 10 empresas de táxi e o número de corridas\n",
    "\n",
    "top_10_companhias = df1.head(10)\n",
    "\n",
    "# Dados das 10 principais companhias\n",
    "company_name = top_10_companhias['company_name']\n",
    "trips_amount = top_10_companhias['trips_amount']\n",
    "\n",
    "# Criar gráfico de barras\n",
    "plt.figure(figsize=(12, 6))\n",
    "plt.bar(company_name, trips_amount, color='gold')\n",
    "\n",
    "# Adicionando título e rótulos dos eixos x e y\n",
    "plt.title('Companhia de táxi e contagem de viagens')\n",
    "plt.xlabel('Companhia de táxi')\n",
    "plt.ylabel('Contagem de viagens')\n",
    "\n",
    "# Rotacionar os nomes das companhias para facilitar a visualização dos dados\n",
    "plt.xticks(rotation=45, ha='right')\n",
    "\n",
    "# Exibir gráfico\n",
    "# garantindo espaçamento e visibilade para que os dados não fiquem cortados ou sobrepostos uns aos outros\n",
    "plt.tight_layout()\n",
    "plt.show()"
   ]
  },
  {
   "cell_type": "markdown",
   "metadata": {},
   "source": [
    "Obs:No gráfico acima pode observar que a companhia Flash Cab tem o maior número de viagens realizadas garantindo o podium das nossas companhias de táxi"
   ]
  },
  {
   "cell_type": "code",
   "execution_count": 19,
   "metadata": {},
   "outputs": [
    {
     "data": {
      "image/png": "[encoded data removed]",
      "text/plain": [
       "<Figure size 1200x600 with 1 Axes>"
      ]
     },
     "metadata": {},
     "output_type": "display_data"
    }
   ],
   "source": [
    "# Selecionar os 10 primeiros bairros mais relevantes para nossa analise\n",
    "\n",
    "top_10_bairros = df2.head(10) # Definindo os 10 bairros que irei visualizar\n",
    "\n",
    "# Dados dos 10 primeiros bairros\n",
    "dropoff_location_name = top_10_bairros['dropoff_location_name']\n",
    "average_trips = top_10_bairros['average_trips']\n",
    "\n",
    "# Criar gráfico de barras\n",
    "plt.figure(figsize=(12, 6))\n",
    "plt.bar(dropoff_location_name, average_trips, color='skyblue')\n",
    "\n",
    "# Adicionando título e rótulos dos eixos x e y\n",
    "plt.title('Número Médio de Viagens por Bairros')\n",
    "plt.xlabel('Bairro')\n",
    "plt.ylabel('Número Médio de Viagens')\n",
    "\n",
    "# Rotacionar os nomes dos bairros para facilitar a  visualização dos dados \n",
    "plt.xticks(rotation=45, ha='right')\n",
    "\n",
    "# Exibir gráfico\n",
    "# garantindo espaçamento e visibilade para que os dados não fiquem cortados ou sobrepostos uns aos outros\n",
    "plt.tight_layout()\n",
    "plt.show()"
   ]
  },
  {
   "cell_type": "markdown",
   "metadata": {},
   "source": [
    "Obs:No gráfico acima, podemos observar os bairros com maior demanda para destinos. Em primeiro lugar, temos 'Loop', seguido por 'River North' em segundo lugar e 'Streeterville' em terceiro lugar."
   ]
  },
  {
   "cell_type": "markdown",
   "metadata": {},
   "source": [
    "# Tirar conclusões com base em cada gráfico e explicar os resultados"
   ]
  },
  {
   "cell_type": "markdown",
   "metadata": {},
   "source": [
    "Obs: Nos gráficos das companhias de táxi, podemos observar que a empresa 'Flash Cab' está significativamente à frente em termos do número de viagens realizadas em comparação com outras empresas. Além disso, em relação aos destinos mais solicitados, os bairros 'Loop' e 'River North' se destacam como os mais procurados."
   ]
  },
  {
   "cell_type": "markdown",
   "metadata": {},
   "source": [
    "## Teste de hipoteses"
   ]
  },
  {
   "cell_type": "markdown",
   "metadata": {},
   "source": [
    "# A duração média dos passeios do Loop para o Aeroporto Internacional O'Hare muda nos sábados chuvosos."
   ]
  },
  {
   "cell_type": "code",
   "execution_count": 20,
   "metadata": {
    "scrolled": false
   },
   "outputs": [
    {
     "data": {
      "text/html": [
       "<div>\n",
       "<style scoped>\n",
       "    .dataframe tbody tr th:only-of-type {\n",
       "        vertical-align: middle;\n",
       "    }\n",
       "\n",
       "    .dataframe tbody tr th {\n",
       "        vertical-align: top;\n",
       "    }\n",
       "\n",
       "    .dataframe thead th {\n",
       "        text-align: right;\n",
       "    }\n",
       "</style>\n",
       "<table border=\"1\" class=\"dataframe\">\n",
       "  <thead>\n",
       "    <tr style=\"text-align: right;\">\n",
       "      <th></th>\n",
       "      <th>start_ts</th>\n",
       "      <th>weather_conditions</th>\n",
       "      <th>duration_seconds</th>\n",
       "    </tr>\n",
       "  </thead>\n",
       "  <tbody>\n",
       "    <tr>\n",
       "      <th>0</th>\n",
       "      <td>2017-11-25 16:00:00</td>\n",
       "      <td>Good</td>\n",
       "      <td>2410.0</td>\n",
       "    </tr>\n",
       "    <tr>\n",
       "      <th>1</th>\n",
       "      <td>2017-11-25 14:00:00</td>\n",
       "      <td>Good</td>\n",
       "      <td>1920.0</td>\n",
       "    </tr>\n",
       "    <tr>\n",
       "      <th>2</th>\n",
       "      <td>2017-11-25 12:00:00</td>\n",
       "      <td>Good</td>\n",
       "      <td>1543.0</td>\n",
       "    </tr>\n",
       "    <tr>\n",
       "      <th>3</th>\n",
       "      <td>2017-11-04 10:00:00</td>\n",
       "      <td>Good</td>\n",
       "      <td>2512.0</td>\n",
       "    </tr>\n",
       "    <tr>\n",
       "      <th>4</th>\n",
       "      <td>2017-11-11 07:00:00</td>\n",
       "      <td>Good</td>\n",
       "      <td>1440.0</td>\n",
       "    </tr>\n",
       "    <tr>\n",
       "      <th>5</th>\n",
       "      <td>2017-11-11 04:00:00</td>\n",
       "      <td>Good</td>\n",
       "      <td>1320.0</td>\n",
       "    </tr>\n",
       "    <tr>\n",
       "      <th>6</th>\n",
       "      <td>2017-11-04 16:00:00</td>\n",
       "      <td>Bad</td>\n",
       "      <td>2969.0</td>\n",
       "    </tr>\n",
       "    <tr>\n",
       "      <th>7</th>\n",
       "      <td>2017-11-18 11:00:00</td>\n",
       "      <td>Good</td>\n",
       "      <td>2280.0</td>\n",
       "    </tr>\n",
       "    <tr>\n",
       "      <th>8</th>\n",
       "      <td>2017-11-11 14:00:00</td>\n",
       "      <td>Good</td>\n",
       "      <td>2460.0</td>\n",
       "    </tr>\n",
       "    <tr>\n",
       "      <th>9</th>\n",
       "      <td>2017-11-11 12:00:00</td>\n",
       "      <td>Good</td>\n",
       "      <td>2040.0</td>\n",
       "    </tr>\n",
       "  </tbody>\n",
       "</table>\n",
       "</div>"
      ],
      "text/plain": [
       "              start_ts weather_conditions  duration_seconds\n",
       "0  2017-11-25 16:00:00               Good            2410.0\n",
       "1  2017-11-25 14:00:00               Good            1920.0\n",
       "2  2017-11-25 12:00:00               Good            1543.0\n",
       "3  2017-11-04 10:00:00               Good            2512.0\n",
       "4  2017-11-11 07:00:00               Good            1440.0\n",
       "5  2017-11-11 04:00:00               Good            1320.0\n",
       "6  2017-11-04 16:00:00                Bad            2969.0\n",
       "7  2017-11-18 11:00:00               Good            2280.0\n",
       "8  2017-11-11 14:00:00               Good            2460.0\n",
       "9  2017-11-11 12:00:00               Good            2040.0"
      ]
     },
     "execution_count": 20,
     "metadata": {},
     "output_type": "execute_result"
    }
   ],
   "source": [
    "df.head(10)"
   ]
  },
  {
   "cell_type": "code",
   "execution_count": 21,
   "metadata": {},
   "outputs": [],
   "source": [
    "# Criando o df para filtrar os dados para os sábados\n",
    "df['start_ts'] = pd.to_datetime(df['start_ts'])\n",
    "saturdays = df[df['start_ts'].dt.weekday == 5]"
   ]
  },
  {
   "cell_type": "code",
   "execution_count": 22,
   "metadata": {},
   "outputs": [],
   "source": [
    "# Separando os sábados com as condições climaticas chuvosas e boas\n",
    "rainy_saturdays  = saturdays[saturdays['weather_conditions'] == 'Bad']\n",
    "sunny_saturday = saturdays[saturdays['weather_conditions'] == 'Good']"
   ]
  },
  {
   "cell_type": "code",
   "execution_count": 23,
   "metadata": {
    "scrolled": false
   },
   "outputs": [
    {
     "data": {
      "text/html": [
       "<div>\n",
       "<style scoped>\n",
       "    .dataframe tbody tr th:only-of-type {\n",
       "        vertical-align: middle;\n",
       "    }\n",
       "\n",
       "    .dataframe tbody tr th {\n",
       "        vertical-align: top;\n",
       "    }\n",
       "\n",
       "    .dataframe thead th {\n",
       "        text-align: right;\n",
       "    }\n",
       "</style>\n",
       "<table border=\"1\" class=\"dataframe\">\n",
       "  <thead>\n",
       "    <tr style=\"text-align: right;\">\n",
       "      <th></th>\n",
       "      <th>start_ts</th>\n",
       "      <th>weather_conditions</th>\n",
       "      <th>duration_seconds</th>\n",
       "    </tr>\n",
       "  </thead>\n",
       "  <tbody>\n",
       "    <tr>\n",
       "      <th>6</th>\n",
       "      <td>2017-11-04 16:00:00</td>\n",
       "      <td>Bad</td>\n",
       "      <td>2969.0</td>\n",
       "    </tr>\n",
       "    <tr>\n",
       "      <th>30</th>\n",
       "      <td>2017-11-18 12:00:00</td>\n",
       "      <td>Bad</td>\n",
       "      <td>1980.0</td>\n",
       "    </tr>\n",
       "    <tr>\n",
       "      <th>34</th>\n",
       "      <td>2017-11-04 17:00:00</td>\n",
       "      <td>Bad</td>\n",
       "      <td>2460.0</td>\n",
       "    </tr>\n",
       "    <tr>\n",
       "      <th>51</th>\n",
       "      <td>2017-11-04 16:00:00</td>\n",
       "      <td>Bad</td>\n",
       "      <td>2760.0</td>\n",
       "    </tr>\n",
       "    <tr>\n",
       "      <th>52</th>\n",
       "      <td>2017-11-18 12:00:00</td>\n",
       "      <td>Bad</td>\n",
       "      <td>2460.0</td>\n",
       "    </tr>\n",
       "    <tr>\n",
       "      <th>...</th>\n",
       "      <td>...</td>\n",
       "      <td>...</td>\n",
       "      <td>...</td>\n",
       "    </tr>\n",
       "    <tr>\n",
       "      <th>1031</th>\n",
       "      <td>2017-11-18 12:00:00</td>\n",
       "      <td>Bad</td>\n",
       "      <td>2560.0</td>\n",
       "    </tr>\n",
       "    <tr>\n",
       "      <th>1032</th>\n",
       "      <td>2017-11-18 10:00:00</td>\n",
       "      <td>Bad</td>\n",
       "      <td>1908.0</td>\n",
       "    </tr>\n",
       "    <tr>\n",
       "      <th>1053</th>\n",
       "      <td>2017-11-18 12:00:00</td>\n",
       "      <td>Bad</td>\n",
       "      <td>2400.0</td>\n",
       "    </tr>\n",
       "    <tr>\n",
       "      <th>1061</th>\n",
       "      <td>2017-11-18 16:00:00</td>\n",
       "      <td>Bad</td>\n",
       "      <td>2186.0</td>\n",
       "    </tr>\n",
       "    <tr>\n",
       "      <th>1067</th>\n",
       "      <td>2017-11-04 16:00:00</td>\n",
       "      <td>Bad</td>\n",
       "      <td>2834.0</td>\n",
       "    </tr>\n",
       "  </tbody>\n",
       "</table>\n",
       "<p>180 rows × 3 columns</p>\n",
       "</div>"
      ],
      "text/plain": [
       "                start_ts weather_conditions  duration_seconds\n",
       "6    2017-11-04 16:00:00                Bad            2969.0\n",
       "30   2017-11-18 12:00:00                Bad            1980.0\n",
       "34   2017-11-04 17:00:00                Bad            2460.0\n",
       "51   2017-11-04 16:00:00                Bad            2760.0\n",
       "52   2017-11-18 12:00:00                Bad            2460.0\n",
       "...                  ...                ...               ...\n",
       "1031 2017-11-18 12:00:00                Bad            2560.0\n",
       "1032 2017-11-18 10:00:00                Bad            1908.0\n",
       "1053 2017-11-18 12:00:00                Bad            2400.0\n",
       "1061 2017-11-18 16:00:00                Bad            2186.0\n",
       "1067 2017-11-04 16:00:00                Bad            2834.0\n",
       "\n",
       "[180 rows x 3 columns]"
      ]
     },
     "execution_count": 23,
     "metadata": {},
     "output_type": "execute_result"
    }
   ],
   "source": [
    "rainy_saturdays"
   ]
  },
  {
   "cell_type": "markdown",
   "metadata": {},
   "source": [
    "180 dias chuvosos"
   ]
  },
  {
   "cell_type": "code",
   "execution_count": 24,
   "metadata": {
    "scrolled": true
   },
   "outputs": [],
   "source": [
    "#sunny_saturday"
   ]
  },
  {
   "cell_type": "markdown",
   "metadata": {},
   "source": [
    "888 dias ensolarados"
   ]
  },
  {
   "cell_type": "code",
   "execution_count": 25,
   "metadata": {
    "scrolled": true
   },
   "outputs": [],
   "source": [
    "# Verificando a media de duração dos sábados chuvosos\n",
    "#rainy_saturdays_duration_mean = saturdays[saturdays['weather_conditions'] == 'Bad']['duration_seconds'].mean()\n",
    "#rainy_saturdays_duration_mean"
   ]
  },
  {
   "cell_type": "code",
   "execution_count": 26,
   "metadata": {},
   "outputs": [],
   "source": [
    "# Verificando a media de duração dos sábados ensolarados ou com um clima tempo bom\n",
    "#sunny_saturdays_duration_mean = saturdays[saturdays['weather_conditions'] == 'Good']['duration_seconds'].mean()\n",
    "#sunny_saturdays_duration_mean"
   ]
  },
  {
   "cell_type": "code",
   "execution_count": 27,
   "metadata": {},
   "outputs": [
    {
     "name": "stdout",
     "output_type": "stream",
     "text": [
      "valor-p:  6.738994326108734e-12\n",
      "Rejeitamos a hipótese nula. Há uma diferença significativa na duração média das viagens entre sábados chuvosos e sábados com um clima tempo bom.\n"
     ]
    }
   ],
   "source": [
    "results = st.ttest_ind(rainy_saturdays['duration_seconds'], sunny_saturday['duration_seconds'], equal_var=False)\n",
    "\n",
    "print('valor-p: ', results.pvalue) #extraindo o valor-p\n",
    "\n",
    "alpha = 0.05 #nível crítico de significância estatística\n",
    "# se o valor-p for menor que alfa, rejeitamos a hipótese nula\n",
    "\n",
    "if results.pvalue < alpha: #comparando o valor-p com o limiar\n",
    "    print(\"Rejeitamos a hipótese nula. Há uma diferença significativa na duração média das viagens entre sábados chuvosos e sábados com um clima tempo bom.\")\n",
    "else:\n",
    "    print(\"Não podemos rejeitar a hipótese nula. Não há diferença significativa na duração média das viagens entre sábados chuvosos e sábados com um clima tempo bom.\")"
   ]
  },
  {
   "cell_type": "markdown",
   "metadata": {},
   "source": [
    "# Decida onde definir o nível de significância (alfa) por conta própria.\n",
    "\n",
    "Obs: Escolhi o nivel de significância em 0.05 pois equilibra o risco de cometer erros e é muito comum sua utilização na hora de fazer teste de hipoteses"
   ]
  },
  {
   "cell_type": "markdown",
   "metadata": {},
   "source": [
    "# Explique: Como você formou as hipóteses nula e alternativa\n",
    "\n",
    "Obs: Eu formulei a hipótese nula afirmando que não há diferença significativa na duração média das viagens entre sábados chuvosos e sábados com um clima tempo bom e a hipótese alternativa afirma que há uma diferença significativa na duração média das viagens entre sábados chuvosos e sábados com clima tempo bom."
   ]
  },
  {
   "cell_type": "markdown",
   "metadata": {},
   "source": [
    "# Qual critério você usou para testar a hipótese e porque? \n",
    "\n",
    "Obs: Foi utilizado o \"ttest\" para fazer comparação de duas amostras no nosso caso foi utilizado a amostra ((A) para sábados chuvosos e (B) para sábados com dia ensolarado) e definimos o valor alpha como 0.05.\n",
    "\n",
    "Foi utilizado o teste de comparação de duas amostras para mostrar se existem valores significativamente relevantes para nosso teste de hipotese para saber se a duração média das viagens nos sabádos chuvosos são diferentes das viagens aos sábados em dias ensolarados ou com um clima tempo bom e o valor alpha definido em 0.05 foi definido neste valor para equilibrar o risco de cometer algum erro e também por sua utilização ser muito comum em testes de hipoteses.\n"
   ]
  },
  {
   "cell_type": "markdown",
   "metadata": {},
   "source": [
    "# Conclusão:\n",
    "\n",
    "Após seguir todos os padrões estabelecidos para um analista de dados, concluí que há uma diferença na duração média das viagens entre sábados chuvosos e sábados com um clima tempo bom.\n",
    "Também podemos observar os bairros com maior demanda para destinos, em primeiro lugar, temos 'Loop', seguido por 'River North' em segundo lugar e 'Streeterville' em terceiro lugar, já as companhias de táxi temos Flash Cab no topo do podium, Taxi Affiliation Services como a segunda companhia mais utilizada e para finalizar nosso top 3 temos Medallion Leasing\tcomo as três companhias de táxi mais utilizadas pela população local."
   ]
  }
 ],
 "metadata": {
  "kernelspec": {
   "display_name": "base",
   "language": "python",
   "name": "python3"
  },
  "language_info": {
   "codemirror_mode": {
    "name": "ipython",
    "version": 3
   },
   "file_extension": ".py",
   "mimetype": "text/x-python",
   "name": "python",
   "nbconvert_exporter": "python",
   "pygments_lexer": "ipython3",
   "version": "3.11.7"
  },
  "toc": {
   "base_numbering": 1,
   "nav_menu": {},
   "number_sections": true,
   "sideBar": true,
   "skip_h1_title": true,
   "title_cell": "Table of Contents",
   "title_sidebar": "Contents",
   "toc_cell": false,
   "toc_position": {},
   "toc_section_display": true,
   "toc_window_display": false
  }
 },
 "nbformat": 4,
 "nbformat_minor": 2
}
